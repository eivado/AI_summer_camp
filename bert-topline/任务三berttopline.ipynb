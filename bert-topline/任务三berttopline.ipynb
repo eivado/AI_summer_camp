{
 "cells": [
  {
   "cell_type": "markdown",
   "id": "a4378974-fc0b-4903-9fbf-c98d2b5b99dc",
   "metadata": {},
   "source": [
    "> bert模型 topline方案 https://tvq27xqm30o.feishu.cn/docx/U1fzdqdE0o6SWnxixyrc3gnLnJg"
   ]
  },
  {
   "cell_type": "markdown",
   "id": "b6c8206a-026e-414a-aea9-c212d87ddea7",
   "metadata": {},
   "source": [
    "- 下载Topline代码文件\n",
    "  代码文件链接：https://wwvl.lanzout.com/ib9Wb15rxt0b"
   ]
  },
  {
   "cell_type": "markdown",
   "id": "dc882519-b962-4c6a-9b26-16d2d922300f",
   "metadata": {},
   "source": [
    "- 运行代码 - 对数据进行处理"
   ]
  },
  {
   "cell_type": "markdown",
   "id": "c3287011-6e43-41aa-afb2-8f9d192b8029",
   "metadata": {},
   "source": [
    "    - 输入“cd f”然后按TAB键，文件名称便会自动补全，接下来按回车键进入解压好的文件夹："
   ]
  },
  {
   "cell_type": "markdown",
   "id": "8be0058d-86c8-4082-be69-1a61c07e098c",
   "metadata": {},
   "source": [
    "    - 将数据处理成模型的输入格式，在终端输入“python data_process.py”并回车"
   ]
  },
  {
   "cell_type": "markdown",
   "id": "6e54fa38-f1f2-4e31-8a02-ec3e585c07a7",
   "metadata": {},
   "source": [
    "- 运行代码 - 训练模型"
   ]
  },
  {
   "cell_type": "markdown",
   "id": "a83c1fb6-ad67-4298-a77d-014547a38601",
   "metadata": {},
   "source": [
    "    - 在终端输入“python models_training.py”并回车："
   ]
  },
  {
   "cell_type": "markdown",
   "id": "bc06959a-9691-4f3c-9e96-6d1cd5a116a2",
   "metadata": {},
   "source": [
    "- 运行代码 - 测试集推理"
   ]
  },
  {
   "cell_type": "markdown",
   "id": "4c5da638-be91-4798-b8f7-e22271e870ac",
   "metadata": {},
   "source": [
    "    - 在终端输入“python ensemble_and_submit.py”并回车："
   ]
  },
  {
   "cell_type": "markdown",
   "id": "f97442ec-dab8-44d8-8cb2-42a94aa178dd",
   "metadata": {},
   "source": [
    "    - 右击submit.csv然后点击Download，下载提交文件："
   ]
  },
  {
   "cell_type": "markdown",
   "id": "d7d3ef23-7398-43ad-acb2-c1a44100aee1",
   "metadata": {},
   "source": [
    "# 可继续探索，优化的地方"
   ]
  },
  {
   "cell_type": "markdown",
   "id": "b8c8ee40-d319-4d23-bdac-a878ec62e183",
   "metadata": {},
   "source": [
    "1. 调整超参数\n",
    "- 包括学习率、Batch_size、正则化系数等，可以使用网格搜索的方法（Grid search）来寻找模型更好的超参数组合。\n",
    "2. 调整最大序列长度\n",
    "- 在数据处理阶段中，调整最大序列长度MAX_LEN。\n",
    "3. 更改损失函数\n",
    "- 一般分类任务中，最常使用的损失函数是交叉熵（CE, Cross-Entropy），但最简单的也可以换成BCE。\n",
    "4. 冻结模型部分参数\n",
    "- 如feature1在模型训练的前期，相对feature2而言可能并不能带来太好的表征，所以第一个epoch可以先将它的参数进行冻结（又或者将该特征对应全连接层的学习率调小），然后等到第二个epoch后再正常训练。\n",
    "5. 融合更多特征\n",
    "- 融合更多特征，如考虑加入Glove、Word2Vec、Fasttext结合TextCNN、BiLSTM、LSTM+Attention等特征提取器所提取的文本特征。\n",
    "6. 模型集成\n",
    "- 使用一或多个与本文模型能够互补优劣的模型，并进行集成。\n",
    "7. 对比学习\n",
    "- 设计代理任务，加入对比损失函数，在训练阶段中获得更好的嵌入表示，提高模型性能。\n",
    "8. 提示学习\n",
    "- 在预训练模型的基础上使用提示学习范式，通过硬提示/软提示的方法提高模型性能。"
   ]
  }
 ],
 "metadata": {
  "kernelspec": {
   "display_name": "Python 3 (ipykernel)",
   "language": "python",
   "name": "python3"
  },
  "language_info": {
   "codemirror_mode": {
    "name": "ipython",
    "version": 3
   },
   "file_extension": ".py",
   "mimetype": "text/x-python",
   "name": "python",
   "nbconvert_exporter": "python",
   "pygments_lexer": "ipython3",
   "version": "3.8.10"
  }
 },
 "nbformat": 4,
 "nbformat_minor": 5
}
