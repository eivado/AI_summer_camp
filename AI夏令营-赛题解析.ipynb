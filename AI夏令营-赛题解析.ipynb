{
 "cells": [
  {
   "cell_type": "raw",
   "id": "3dbbdc79-ab05-4166-a315-25330f3dd6d9",
   "metadata": {},
   "source": [
    "本教程会带领大家项目制学习，由浅入深，逐渐进阶。从跑通最简的Baseline，精读Baseline，到底层算法原理与进阶实践技巧的学习，千里之行，始于足下，从这里，开启你的 AI 学习之旅吧\n",
    "\n",
    "—— Datawhale贡献者团队\n",
    "教程链接地址：https://linklearner.com/learn/detail/123?detail=703&index=1"
   ]
  },
  {
   "cell_type": "raw",
   "id": "5a8bc9c2-c913-4b6b-9aa7-8bc666402a1c",
   "metadata": {},
   "source": [
    "基于论文摘要的文本分类与关键词抽取挑战赛\n",
    "[https://​challenge​.xfyun​.cn​/topic​/info​?type​=​abstract​-of​-the​-paper​&​ch​=​ymfk4uU]{https://​challenge​.xfyun​.cn​/topic​/info​?type​=​abstract​-of​-the​-paper​&​ch​=​ymfk4uU}"
   ]
  },
  {
   "cell_type": "raw",
   "id": "f12084d5-e111-49b9-ad3f-8d9a65a4e2e2",
   "metadata": {},
   "source": [
    "赛题背景"
   ]
  },
  {
   "cell_type": "raw",
   "id": "ee3182e2-74fb-447e-8ba6-54ecfbcf856e",
   "metadata": {},
   "source": [
    "医学领域的文献库中蕴含了丰富的疾病诊断和治疗信息，如何高效地从海量文献中提取关键信息，进行疾病诊断和治疗推荐，对于临床医生和研究人员具有重要意义。"
   ]
  },
  {
   "cell_type": "raw",
   "id": "28efb419-f4a5-4397-b901-14b464803c7b",
   "metadata": {},
   "source": [
    "赛事任务"
   ]
  },
  {
   "cell_type": "raw",
   "id": "a9ad2071-4e54-4276-9d4b-81ab704cb9d8",
   "metadata": {},
   "source": [
    "机器通过对论文摘要等信息的理解，判断该论文是否属于医学领域的文献。"
   ]
  },
  {
   "cell_type": "raw",
   "id": "4b98d626-0571-4a5e-ba3c-7165fff1c68b",
   "metadata": {},
   "source": [
    "任务示例："
   ]
  },
  {
   "cell_type": "raw",
   "id": "41930f7a-bb1d-42d0-9a30-7c37ccd926fd",
   "metadata": {},
   "source": [
    "输入：\n",
    "\n",
    "论文信息，格式如下：\n",
    "\n",
    "Inflammatory Breast Cancer: What to Know About This Unique, Aggressive Breast Cancer.，\n",
    "\n",
    "[Arjun Menta, Tamer M Fouad, Anthony Lucci, Huong Le-Petross, Michael C Stauder, Wendy A Woodward, Naoto T Ueno, Bora Lim]，\n",
    "\n",
    "Inflammatory breast cancer (IBC) is a rare form of breast cancer that accounts for only 2% to 4% of all breast cancer cases. Despite its low incidence, IBC contributes to 7% to 10% of breast cancer caused mortality. Despite ongoing international efforts to formulate better diagnosis, treatment, and research, the survival of patients with IBC has not been significantly improved, and there are no therapeutic agents that specifically target IBC to date. The authors present a comprehensive overview that aims to assess the present and new management strategies of IBC.，\n",
    "\n",
    "Breast changes; Clinical trials; Inflammatory breast cancer; Trimodality care.\n",
    "\n",
    "输出：\n",
    "\n",
    "是(1)"
   ]
  },
  {
   "cell_type": "raw",
   "id": "027e6c98-aade-4515-ab02-0717a6da79a7",
   "metadata": {},
   "source": [
    "赛题数据集"
   ]
  },
  {
   "cell_type": "raw",
   "id": "dfd6bc70-6d23-48b0-a261-4c527fcc5387",
   "metadata": {},
   "source": [
    "训练集与测试集数据为CSV格式文件，各字段分别是标题、作者、摘要、关键词。"
   ]
  },
  {
   "cell_type": "raw",
   "id": "4f093536-232b-407a-9b4d-438e432491b4",
   "metadata": {},
   "source": [
    "评价指标"
   ]
  },
  {
   "cell_type": "raw",
   "id": "aa6bc3ad-c1f6-4de2-ad25-17af98209393",
   "metadata": {},
   "source": [
    "本次竞赛的评价标准采用F1_score，分数越高，效果越好。"
   ]
  },
  {
   "cell_type": "raw",
   "id": "53857f91-eef0-4591-98e6-3b6346b5cbf4",
   "metadata": {},
   "source": [
    "解题思路"
   ]
  },
  {
   "cell_type": "raw",
   "id": "ff317888-07da-4150-8906-29e3cfd384ac",
   "metadata": {},
   "source": [
    "文献领域分类"
   ]
  },
  {
   "cell_type": "raw",
   "id": "58c6022c-917f-479d-ad78-ad3f885b186e",
   "metadata": {},
   "source": [
    "针对文本分类任务，可以提供两种实践思路，一种是使用传统的特征提取方法（如TF-IDF/BOW）结合机器学习模型，另一种是使用预训练的BERT模型进行建模。"
   ]
  },
  {
   "cell_type": "raw",
   "id": "f0da2c63-a1e2-46fc-9956-0faa1eeb79e5",
   "metadata": {},
   "source": [
    "使用特征提取 + 机器学习的思路步骤如下："
   ]
  },
  {
   "cell_type": "raw",
   "id": "9ff81f75-59ef-4cea-8d17-a8ad799a9624",
   "metadata": {},
   "source": [
    "数据预处理：首先，对文本数据进行预处理，包括文本清洗（如去除特殊字符、标点符号）、分词等操作。可以使用常见的NLP工具包（如NLTK或spaCy）来辅助进行预处理。\n",
    "特征提取：使用TF-IDF（词频-逆文档频率）或BOW（词袋模型）方法将文本转换为向量表示。TF-IDF可以计算文本中词语的重要性，而BOW则简单地统计每个词语在文本中的出现次数。可以使用scikit-learn库的TfidfVectorizer或CountVectorizer来实现特征提取。\n",
    "构建训练集和测试集：将预处理后的文本数据分割为训练集和测试集，确保数据集的样本分布均匀。\n",
    "选择机器学习模型：根据实际情况选择适合的机器学习模型，如朴素贝叶斯、支持向量机（SVM）、随机森林等。这些模型在文本分类任务中表现良好。可以使用scikit-learn库中相应的分类器进行模型训练和评估。\n",
    "模型训练和评估：使用训练集对选定的机器学习模型进行训练，然后使用测试集进行评估。评估指标可以选择准确率、精确率、召回率、F1值等。\n",
    "调参优化：如果模型效果不理想，可以尝试调整特征提取的参数（如词频阈值、词袋大小等）或机器学习模型的参数，以获得更好的性能。"
   ]
  },
  {
   "cell_type": "raw",
   "id": "511140ea-0384-4df4-98d5-6cfde63e2611",
   "metadata": {},
   "source": [
    "我们Baseline选择使用机器学习方法，在解决机器学习问题时，一般会遵循以下流程："
   ]
  },
  {
   "cell_type": "raw",
   "id": "4886142a-ffe9-4c68-a686-6bb44951252a",
   "metadata": {},
   "source": [
    "问题分析->数据探索->数据清洗->特征工程->模型训练->模型验证->结果输出"
   ]
  }
 ],
 "metadata": {
  "kernelspec": {
   "display_name": "Python 3 (ipykernel)",
   "language": "python",
   "name": "python3"
  },
  "language_info": {
   "codemirror_mode": {
    "name": "ipython",
    "version": 3
   },
   "file_extension": ".py",
   "mimetype": "text/x-python",
   "name": "python",
   "nbconvert_exporter": "python",
   "pygments_lexer": "ipython3",
   "version": "3.8.10"
  }
 },
 "nbformat": 4,
 "nbformat_minor": 5
}
